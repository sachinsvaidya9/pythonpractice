{
 "cells": [
  {
   "cell_type": "code",
   "execution_count": 1,
   "id": "5e75841e",
   "metadata": {},
   "outputs": [
    {
     "name": "stdout",
     "output_type": "stream",
     "text": [
      "What is your current age? 13\n",
      "You have 28105 days, 4004 weeks, and 924 months left.\n"
     ]
    }
   ],
   "source": [
    "# Days, weeks & months left till 90 yrs age #\n",
    "\n",
    "age = input(\"What is your current age? \")\n",
    "\n",
    "age = int(age)\n",
    "x = (90 - age) * 365\n",
    "y = (90 - age) * 52\n",
    "z = (90 - age) * 12\n",
    "\n",
    "print(f\"You have {x} days, {y} weeks, and {z} months left.\")"
   ]
  },
  {
   "cell_type": "code",
   "execution_count": null,
   "id": "14f54367",
   "metadata": {},
   "outputs": [],
   "source": []
  }
 ],
 "metadata": {
  "kernelspec": {
   "display_name": "Python 3 (ipykernel)",
   "language": "python",
   "name": "python3"
  },
  "language_info": {
   "codemirror_mode": {
    "name": "ipython",
    "version": 3
   },
   "file_extension": ".py",
   "mimetype": "text/x-python",
   "name": "python",
   "nbconvert_exporter": "python",
   "pygments_lexer": "ipython3",
   "version": "3.9.12"
  }
 },
 "nbformat": 4,
 "nbformat_minor": 5
}
