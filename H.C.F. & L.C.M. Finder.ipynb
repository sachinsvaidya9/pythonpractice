{
 "cells": [
  {
   "cell_type": "code",
   "execution_count": 8,
   "id": "a365e002",
   "metadata": {},
   "outputs": [
    {
     "name": "stdout",
     "output_type": "stream",
     "text": [
      "Enter first number: 45\n",
      "Enter second number: 100\n",
      "HCF of 45 & 100 is 5\n"
     ]
    }
   ],
   "source": [
    "# Python code for HCF\n",
    "\n",
    "num1 = int(input(\"Enter first number: \"))\n",
    "num2 = int(input(\"Enter second number: \"))\n",
    "fact1 = []\n",
    "fact2 = []\n",
    "\n",
    "for n in range(1, num1+1):\n",
    "    if num1 % n == 0:\n",
    "        fact1.append(n)\n",
    "for m in range(1, num2+1):\n",
    "    if num2 % m == 0:\n",
    "        fact2.append(m)\n",
    "fact = []\n",
    "for i in fact1:\n",
    "    if i in fact2:\n",
    "        fact.append(i)\n",
    "hcf = max(fact)\n",
    "print(f\"HCF of {num1} & {num2} is {hcf}\")"
   ]
  },
  {
   "cell_type": "code",
   "execution_count": 12,
   "id": "8797ccbd",
   "metadata": {},
   "outputs": [
    {
     "name": "stdout",
     "output_type": "stream",
     "text": [
      "Enter first number: 37\n",
      "Enter second number: 7\n",
      "LCM of 37 & 7 is 259\n"
     ]
    }
   ],
   "source": [
    "# Python code for LCM\n",
    "\n",
    "num1 = int(input(\"Enter first number: \"))\n",
    "num2 = int(input(\"Enter second number: \"))\n",
    "num = num1*num2\n",
    "\n",
    "mult1 = []\n",
    "mult2 = []\n",
    "\n",
    "for n in range(1, num+1):\n",
    "    i = n*num1\n",
    "    mult1.append(i)\n",
    "for n in range(1, num+1):\n",
    "    j = n*num2\n",
    "    mult2.append(j)\n",
    "list1 = []\n",
    "for i in mult1:\n",
    "    if i in mult2:\n",
    "        list1.append(i)\n",
    "lcm = min(list1)\n",
    "print(f\"LCM of {num1} & {num2} is {lcm}\")"
   ]
  },
  {
   "cell_type": "code",
   "execution_count": null,
   "id": "934efd97",
   "metadata": {},
   "outputs": [],
   "source": []
  }
 ],
 "metadata": {
  "kernelspec": {
   "display_name": "Python 3 (ipykernel)",
   "language": "python",
   "name": "python3"
  },
  "language_info": {
   "codemirror_mode": {
    "name": "ipython",
    "version": 3
   },
   "file_extension": ".py",
   "mimetype": "text/x-python",
   "name": "python",
   "nbconvert_exporter": "python",
   "pygments_lexer": "ipython3",
   "version": "3.9.12"
  }
 },
 "nbformat": 4,
 "nbformat_minor": 5
}
