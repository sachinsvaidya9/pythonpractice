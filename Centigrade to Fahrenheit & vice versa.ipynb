{
 "cells": [
  {
   "cell_type": "code",
   "execution_count": 7,
   "id": "af00489f",
   "metadata": {},
   "outputs": [
    {
     "name": "stdout",
     "output_type": "stream",
     "text": [
      "Enter temperature in Centigrade: 100\n",
      "Temperature in Fahrenheit is 212.0\n"
     ]
    }
   ],
   "source": [
    "# Temperature conversion from Centigrade to Fahrenheit\n",
    "cent = int(input(\"Enter temperature in Centigrade: \"))\n",
    "F = (cent*9/5)+32\n",
    "print(f\"Temperature in Fahrenheit is {F}\")"
   ]
  },
  {
   "cell_type": "code",
   "execution_count": 6,
   "id": "64e9758e",
   "metadata": {},
   "outputs": [
    {
     "name": "stdout",
     "output_type": "stream",
     "text": [
      "Enter temperature in Fahrenheit: 100\n",
      "Temperature in Centigrade is 37.77777777777778\n"
     ]
    }
   ],
   "source": [
    "# Temperature conversion from Fahrenheit to Centigrade\n",
    "\n",
    "F = int(input(\"Enter temperature in Fahrenheit: \"))\n",
    "cent = (F-32)*5/9\n",
    "print(f\"Temperature in Centigrade is {cent}\")"
   ]
  },
  {
   "cell_type": "code",
   "execution_count": null,
   "id": "231add96",
   "metadata": {},
   "outputs": [],
   "source": []
  }
 ],
 "metadata": {
  "kernelspec": {
   "display_name": "Python 3 (ipykernel)",
   "language": "python",
   "name": "python3"
  },
  "language_info": {
   "codemirror_mode": {
    "name": "ipython",
    "version": 3
   },
   "file_extension": ".py",
   "mimetype": "text/x-python",
   "name": "python",
   "nbconvert_exporter": "python",
   "pygments_lexer": "ipython3",
   "version": "3.9.12"
  }
 },
 "nbformat": 4,
 "nbformat_minor": 5
}
