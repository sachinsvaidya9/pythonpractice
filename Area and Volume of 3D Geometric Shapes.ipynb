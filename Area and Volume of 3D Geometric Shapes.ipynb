{
 "cells": [
  {
   "cell_type": "code",
   "execution_count": null,
   "id": "ce011ac0",
   "metadata": {},
   "outputs": [],
   "source": [
    "# Pyhton program to calculate the area & volume of 3D shapes!\n",
    "\n",
    "import math\n",
    "\n",
    "obj = input(\"Name a 3D shape (in small letter case), you need to calculate the area & volume of :\\n \")\n",
    "\n",
    "Ar = 0\n",
    "\n",
    "Vol = 0\n",
    "\n",
    "Per = 0\n",
    "\n",
    "if obj == \"cube\":\n",
    "    side = int(input(\"Side = \"))\n",
    "    Per = 12*side\n",
    "    print(f\"Perimeter of the cube is {Per}.\")\n",
    "    Ar = 6*side*side\n",
    "    print(f\"Area of the cube is {Ar}.\")\n",
    "    Vol = side*side*side\n",
    "    print(f\"Volume of the cube is {Vol}.\")\n",
    "    \n",
    "elif obj == \"cuboid\":\n",
    "    lenght = int(input(\"Length = \"))\n",
    "    breadth = int(input(\"Breadth = \"))\n",
    "    height = int(input(\"Height = \"))\n",
    "    Per = (4*length) + (4*breadth) + (4*height)\n",
    "    print(f\"Perimeter of the cube is {Per}.\")\n",
    "    Ar = (2*length*breadth) + (2*length*height) + (2*height*breadth)\n",
    "    print(f\"Area of the cube is {Ar}.\")\n",
    "    Vol = length*breadth*height\n",
    "    print(f\"Volume of the cube is {Vol}.\")\n",
    "    \n",
    "elif obj == \"sphere\":\n",
    "    cir = 0\n",
    "    r = int(input(\"Radius = \"))\n",
    "    Ar = 4*(22/7)*r*r\n",
    "    print(f\"Area of the sphere is {Ar}\")\n",
    "    Vol = (4/3)*(22/7)*r*r*r\n",
    "    print(f\"Volume of the sphere is {Vol}.\")\n",
    "\n",
    "elif obj == \"hemisphere\":\n",
    "    cir = 0\n",
    "    r = int(input(\"Radius = \"))\n",
    "    Ar = 0.5*4*(22/7)*r*r\n",
    "    print(f\"Area of the hemisphere is {Ar}\")\n",
    "    Vol = 0.5*(4/3)*(22/7)*r*r*r\n",
    "    print(f\"Volume of the hemisphere is {Vol}.\")\n",
    "    \n",
    "elif obj == \"cone\":\n",
    "    r = int(input(\"Radius of the base = \"))\n",
    "    h = int(input(\"Height of the cone = \"))\n",
    "    slant_height = sqrt(r*r + (h*h)"
   ]
  },
  {
   "cell_type": "code",
   "execution_count": null,
   "id": "2b3d2880",
   "metadata": {},
   "outputs": [],
   "source": [
    "    A = d_1*d_2*math.sin(angle)\n",
    "    print(f\"Area of the irregular quadril"
   ]
  },
  {
   "cell_type": "code",
   "execution_count": null,
   "id": "2649adee",
   "metadata": {},
   "outputs": [],
   "source": [
    "    \n",
    "elif obj == \"cylinder\":\n",
    "    rad = int(input(\"radius = \"))\n",
    "    A = (rad*rad)*(22/7)\n",
    "    print(f\"Area of the circle is {A}\")\n",
    "    \n",
    "elif obj == \"pyramid\":\n",
    "    base = int(input(\"Base = \"))\n",
    "    height = int(input(\"Height = \"))\n",
    "    A = 0.5*base*height\n",
    "    print(f\"Area of the triangle is {A}\")\n",
    "    \n",
    "elif obj == \"tetrahedral\":\n",
    "    side = int(input(\"Side = \"))\n",
    "    A = side*side\n",
    "    print(f\"Area of the square is {A}\")"
   ]
  }
 ],
 "metadata": {
  "celltoolbar": "Tags",
  "kernelspec": {
   "display_name": "Python 3 (ipykernel)",
   "language": "python",
   "name": "python3"
  },
  "language_info": {
   "codemirror_mode": {
    "name": "ipython",
    "version": 3
   },
   "file_extension": ".py",
   "mimetype": "text/x-python",
   "name": "python",
   "nbconvert_exporter": "python",
   "pygments_lexer": "ipython3",
   "version": "3.9.12"
  }
 },
 "nbformat": 4,
 "nbformat_minor": 5
}
