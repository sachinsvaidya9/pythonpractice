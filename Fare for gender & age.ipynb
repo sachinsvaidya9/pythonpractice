{
 "cells": [
  {
   "cell_type": "code",
   "execution_count": 8,
   "id": "dc426df1",
   "metadata": {},
   "outputs": [
    {
     "name": "stdout",
     "output_type": "stream",
     "text": [
      "Enter your gender: female\n",
      "Enter your age: 50\n",
      "80.0\n"
     ]
    }
   ],
   "source": [
    "gender = input(\"Enter your gender: \")\n",
    "age = input(\"Enter your age: \")\n",
    "age = int(age)\n",
    "\n",
    "fare = 100\n",
    "\n",
    "if gender == \"male\" and age >= 60:\n",
    "    print(fare*0.7)\n",
    "elif gender == \"male\" and age <= 15:\n",
    "    print(fare*0.5)\n",
    "elif gender == \"female\" and age >= 60:\n",
    "    print(fare*0.6)\n",
    "elif gender == \"female\" and age > 15 and age < 60:\n",
    "    print(fare*0.8)\n",
    "elif gender == \"female\" and age <= 15:\n",
    "    print(fare*0.4)\n",
    "else:\n",
    "    print(fare)"
   ]
  },
  {
   "cell_type": "code",
   "execution_count": null,
   "id": "aa479d89",
   "metadata": {},
   "outputs": [],
   "source": []
  }
 ],
 "metadata": {
  "kernelspec": {
   "display_name": "Python 3 (ipykernel)",
   "language": "python",
   "name": "python3"
  },
  "language_info": {
   "codemirror_mode": {
    "name": "ipython",
    "version": 3
   },
   "file_extension": ".py",
   "mimetype": "text/x-python",
   "name": "python",
   "nbconvert_exporter": "python",
   "pygments_lexer": "ipython3",
   "version": "3.9.12"
  }
 },
 "nbformat": 4,
 "nbformat_minor": 5
}
