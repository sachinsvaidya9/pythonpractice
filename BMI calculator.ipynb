{
 "cells": [
  {
   "cell_type": "code",
   "execution_count": 2,
   "id": "50bd1847",
   "metadata": {},
   "outputs": [
    {
     "name": "stdout",
     "output_type": "stream",
     "text": [
      "enter your height in cm: 148\n",
      "enter your weight in kg: 40\n",
      "18\n",
      "Your BMI is 18, you have a normal weight.\n"
     ]
    }
   ],
   "source": [
    "# BMI calculator #\n",
    "\n",
    "height = float(input(\"enter your height in cm: \"))\n",
    "weight = float(input(\"enter your weight in kg: \"))\n",
    "\n",
    "bmi = round(weight / ((height/100) ** 2))\n",
    "print(bmi)\n",
    "if bmi < 18:\n",
    "    print(f\"Your BMI is {bmi}, you are underweight.\")\n",
    "elif bmi < 25:\n",
    "        print(f\"Your BMI is {bmi}, you have a normal weight.\")\n",
    "elif bmi < 30:\n",
    "        print(f\"Your BMI is {bmi}, you are slightly overweight.\")\n",
    "elif bmi < 35:\n",
    "        print(f\"Your BMI is {bmi}, you are obese.\")\n",
    "else: print(f\"Your BMI is {bmi}, you are clinically obese.\")"
   ]
  },
  {
   "cell_type": "code",
   "execution_count": null,
   "id": "1a3ab9d5",
   "metadata": {},
   "outputs": [],
   "source": []
  }
 ],
 "metadata": {
  "kernelspec": {
   "display_name": "Python 3 (ipykernel)",
   "language": "python",
   "name": "python3"
  },
  "language_info": {
   "codemirror_mode": {
    "name": "ipython",
    "version": 3
   },
   "file_extension": ".py",
   "mimetype": "text/x-python",
   "name": "python",
   "nbconvert_exporter": "python",
   "pygments_lexer": "ipython3",
   "version": "3.9.12"
  }
 },
 "nbformat": 4,
 "nbformat_minor": 5
}
