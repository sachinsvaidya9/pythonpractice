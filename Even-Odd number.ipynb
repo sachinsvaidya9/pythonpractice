names = ["Rishu", 'Aayush', 'Ram', 'Shubh']

for i in names:
  if len(i) == 3:
    continue
print(f'My name is {i}')
