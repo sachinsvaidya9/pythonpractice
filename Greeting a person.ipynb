{
 "cells": [
  {
   "cell_type": "code",
   "execution_count": 1,
   "id": "9dc2b11b",
   "metadata": {},
   "outputs": [
    {
     "name": "stdout",
     "output_type": "stream",
     "text": [
      "Please enter your name: Sarthak Vaidya\n",
      "Hello Sarthak Vaidya! How are you?\n",
      "enter your age:12\n",
      "Hi Sarthak Vaidya! You are 12 yrs young.\n"
     ]
    }
   ],
   "source": [
    "name = input(\"Please enter your name: \")\n",
    "\n",
    "msg = \"Welcome !\"\n",
    "\n",
    "if msg == \"Welcome!\":\n",
    "    print(\"Hello \" + name + \", \" + msg)\n",
    "else:\n",
    "    print(\"Hello \" + name + \"! How are you?\")\n",
    "    \n",
    "age = input(\"enter your age:\")\n",
    "\n",
    "print(\"Hi \" + name + \"! You are \" + age + \" yrs young.\")"
   ]
  },
  {
   "cell_type": "code",
   "execution_count": null,
   "id": "0c03fb03",
   "metadata": {},
   "outputs": [],
   "source": []
  }
 ],
 "metadata": {
  "kernelspec": {
   "display_name": "Python 3 (ipykernel)",
   "language": "python",
   "name": "python3"
  },
  "language_info": {
   "codemirror_mode": {
    "name": "ipython",
    "version": 3
   },
   "file_extension": ".py",
   "mimetype": "text/x-python",
   "name": "python",
   "nbconvert_exporter": "python",
   "pygments_lexer": "ipython3",
   "version": "3.9.12"
  }
 },
 "nbformat": 4,
 "nbformat_minor": 5
}
