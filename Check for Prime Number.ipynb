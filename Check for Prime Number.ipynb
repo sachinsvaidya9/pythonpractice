{
 "cells": [
  {
   "cell_type": "code",
   "execution_count": 13,
   "id": "66355714",
   "metadata": {},
   "outputs": [
    {
     "name": "stdout",
     "output_type": "stream",
     "text": [
      "Enter a real number: 2\n",
      "2 is not a Prime number\n"
     ]
    }
   ],
   "source": [
    "# Check for Prime Number #\n",
    "\n",
    "num = int(input(\"Enter a real number: \"))\n",
    "n = num\n",
    "\n",
    "def is_prime(n):\n",
    "    if n < 2:\n",
    "        return False\n",
    "    elif n == 2:\n",
    "        return False\n",
    "    for i in range(2, n, 1):\n",
    "        if n % i == 0:\n",
    "            return False\n",
    "            break\n",
    "        else:\n",
    "            return True\n",
    "        \n",
    "if is_prime(n):\n",
    "    print(f\"{n} is Prime a number\")\n",
    "else:\n",
    "    print(f\"{n} is not a Prime number\")"
   ]
  },
  {
   "cell_type": "code",
   "execution_count": 18,
   "id": "a76ab52d",
   "metadata": {},
   "outputs": [
    {
     "name": "stdout",
     "output_type": "stream",
     "text": [
      "Enter a real number: 34\n",
      "34 is not Prime a number\n"
     ]
    }
   ],
   "source": [
    "# Check the Prime Number\n",
    "\n",
    "n = int(input(\"Enter a real number: \"))\n",
    "\n",
    "def is_prime(n):\n",
    "    flag = False  # Or flag = 0\n",
    "    if n < 2:\n",
    "        return False\n",
    "    elif n == 2:34\n",
    "    for i in range(2, n, 1):\n",
    "        if n % i == 0:\n",
    "            flag = True # Or flag = 1\n",
    "            break\n",
    "        else:\n",
    "            flag = False # Or flag = 0\n",
    "    return flag\n",
    "        \n",
    "if is_prime(n):\n",
    "    print(f\"{n} is not Prime a number\")\n",
    "else:\n",
    "    print(f\"{n} is Prime number\")"
   ]
  },
  {
   "cell_type": "code",
   "execution_count": null,
   "id": "a2490339",
   "metadata": {},
   "outputs": [],
   "source": []
  },
  {
   "cell_type": "code",
   "execution_count": null,
   "id": "cf74d53f",
   "metadata": {},
   "outputs": [],
   "source": []
  }
 ],
 "metadata": {
  "kernelspec": {
   "display_name": "Python 3 (ipykernel)",
   "language": "python",
   "name": "python3"
  },
  "language_info": {
   "codemirror_mode": {
    "name": "ipython",
    "version": 3
   },
   "file_extension": ".py",
   "mimetype": "text/x-python",
   "name": "python",
   "nbconvert_exporter": "python",
   "pygments_lexer": "ipython3",
   "version": "3.9.12"
  }
 },
 "nbformat": 4,
 "nbformat_minor": 5
}
